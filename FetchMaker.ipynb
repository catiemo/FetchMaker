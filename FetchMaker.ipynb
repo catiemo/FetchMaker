{
 "cells": [
  {
   "cell_type": "markdown",
   "id": "3a536ba7",
   "metadata": {},
   "source": [
    "### Importing Libraries"
   ]
  },
  {
   "cell_type": "code",
   "execution_count": 1,
   "id": "25b28560",
   "metadata": {},
   "outputs": [],
   "source": [
    "import numpy as np\n",
    "import pandas as pd"
   ]
  },
  {
   "cell_type": "markdown",
   "id": "245dd295",
   "metadata": {},
   "source": [
    "### Reading csv file"
   ]
  },
  {
   "cell_type": "code",
   "execution_count": 16,
   "id": "187a53ed",
   "metadata": {},
   "outputs": [
    {
     "data": {
      "text/html": [
       "<div>\n",
       "<style scoped>\n",
       "    .dataframe tbody tr th:only-of-type {\n",
       "        vertical-align: middle;\n",
       "    }\n",
       "\n",
       "    .dataframe tbody tr th {\n",
       "        vertical-align: top;\n",
       "    }\n",
       "\n",
       "    .dataframe thead th {\n",
       "        text-align: right;\n",
       "    }\n",
       "</style>\n",
       "<table border=\"1\" class=\"dataframe\">\n",
       "  <thead>\n",
       "    <tr style=\"text-align: right;\">\n",
       "      <th></th>\n",
       "      <th>is_rescue</th>\n",
       "      <th>weight</th>\n",
       "      <th>tail_length</th>\n",
       "      <th>age</th>\n",
       "      <th>color</th>\n",
       "      <th>likes_children</th>\n",
       "      <th>is_hypoallergenic</th>\n",
       "      <th>name</th>\n",
       "      <th>breed</th>\n",
       "    </tr>\n",
       "  </thead>\n",
       "  <tbody>\n",
       "    <tr>\n",
       "      <th>0</th>\n",
       "      <td>0</td>\n",
       "      <td>6</td>\n",
       "      <td>2.25</td>\n",
       "      <td>2</td>\n",
       "      <td>black</td>\n",
       "      <td>1</td>\n",
       "      <td>0</td>\n",
       "      <td>Huey</td>\n",
       "      <td>chihuahua</td>\n",
       "    </tr>\n",
       "    <tr>\n",
       "      <th>1</th>\n",
       "      <td>0</td>\n",
       "      <td>4</td>\n",
       "      <td>5.36</td>\n",
       "      <td>4</td>\n",
       "      <td>black</td>\n",
       "      <td>0</td>\n",
       "      <td>0</td>\n",
       "      <td>Cherish</td>\n",
       "      <td>chihuahua</td>\n",
       "    </tr>\n",
       "    <tr>\n",
       "      <th>2</th>\n",
       "      <td>0</td>\n",
       "      <td>7</td>\n",
       "      <td>3.63</td>\n",
       "      <td>3</td>\n",
       "      <td>black</td>\n",
       "      <td>0</td>\n",
       "      <td>1</td>\n",
       "      <td>Becka</td>\n",
       "      <td>chihuahua</td>\n",
       "    </tr>\n",
       "    <tr>\n",
       "      <th>3</th>\n",
       "      <td>0</td>\n",
       "      <td>5</td>\n",
       "      <td>0.19</td>\n",
       "      <td>2</td>\n",
       "      <td>black</td>\n",
       "      <td>0</td>\n",
       "      <td>0</td>\n",
       "      <td>Addie</td>\n",
       "      <td>chihuahua</td>\n",
       "    </tr>\n",
       "    <tr>\n",
       "      <th>4</th>\n",
       "      <td>0</td>\n",
       "      <td>5</td>\n",
       "      <td>0.37</td>\n",
       "      <td>1</td>\n",
       "      <td>black</td>\n",
       "      <td>1</td>\n",
       "      <td>1</td>\n",
       "      <td>Beverlee</td>\n",
       "      <td>chihuahua</td>\n",
       "    </tr>\n",
       "  </tbody>\n",
       "</table>\n",
       "</div>"
      ],
      "text/plain": [
       "   is_rescue  weight  tail_length  age  color  likes_children  \\\n",
       "0          0       6         2.25    2  black               1   \n",
       "1          0       4         5.36    4  black               0   \n",
       "2          0       7         3.63    3  black               0   \n",
       "3          0       5         0.19    2  black               0   \n",
       "4          0       5         0.37    1  black               1   \n",
       "\n",
       "   is_hypoallergenic      name      breed  \n",
       "0                  0      Huey  chihuahua  \n",
       "1                  0   Cherish  chihuahua  \n",
       "2                  1     Becka  chihuahua  \n",
       "3                  0     Addie  chihuahua  \n",
       "4                  1  Beverlee  chihuahua  "
      ]
     },
     "execution_count": 16,
     "metadata": {},
     "output_type": "execute_result"
    }
   ],
   "source": [
    "# Import data\n",
    "dogs = pd.read_csv('dog_data.csv')\n",
    "dogs.head()\n"
   ]
  },
  {
   "cell_type": "markdown",
   "id": "e3a932b8",
   "metadata": {},
   "source": [
    "### Filtering dogs dataframe for specific breeds"
   ]
  },
  {
   "cell_type": "code",
   "execution_count": 3,
   "id": "11b18176",
   "metadata": {},
   "outputs": [],
   "source": [
    "# Subset to just whippets, terriers, and pitbulls\n",
    "dogs_wtp = dogs[dogs.breed.isin(['whippet', 'terrier', 'pitbull'])]\n",
    "\n",
    "# Subset to just poodles and shihtzus\n",
    "dogs_ps = dogs[dogs.breed.isin(['poodle', 'shihtzu'])]"
   ]
  },
  {
   "cell_type": "markdown",
   "id": "f2fb0578",
   "metadata": {},
   "source": [
    "### Is rescued values fro Whippet breed"
   ]
  },
  {
   "cell_type": "code",
   "execution_count": 20,
   "id": "e9151b77",
   "metadata": {},
   "outputs": [
    {
     "data": {
      "text/plain": [
       "700    0\n",
       "701    0\n",
       "702    0\n",
       "703    0\n",
       "704    0\n",
       "Name: is_rescue, dtype: int64"
      ]
     },
     "execution_count": 20,
     "metadata": {},
     "output_type": "execute_result"
    }
   ],
   "source": [
    "whippet_rescue = dogs.is_rescue[dogs.breed == 'whippet']\n",
    "whippet_rescue.head()"
   ]
  },
  {
   "cell_type": "markdown",
   "id": "2b6465c9",
   "metadata": {},
   "source": [
    "### Number of rescued whippets"
   ]
  },
  {
   "cell_type": "code",
   "execution_count": 5,
   "id": "99e82bbe",
   "metadata": {},
   "outputs": [
    {
     "name": "stdout",
     "output_type": "stream",
     "text": [
      "6\n"
     ]
    }
   ],
   "source": [
    "num_whippet_rescues = np.sum(whippet_rescue)\n",
    "num_whippet_rescues"
   ]
  },
  {
   "cell_type": "markdown",
   "id": "e9597179",
   "metadata": {},
   "source": [
    "### Total number of whippets"
   ]
  },
  {
   "cell_type": "code",
   "execution_count": 21,
   "id": "4b03d043",
   "metadata": {},
   "outputs": [
    {
     "data": {
      "text/plain": [
       "100"
      ]
     },
     "execution_count": 21,
     "metadata": {},
     "output_type": "execute_result"
    }
   ],
   "source": [
    "num_whippets = len(whippet_rescue)\n",
    "num_whippets"
   ]
  },
  {
   "cell_type": "markdown",
   "id": "7d198df5",
   "metadata": {},
   "source": [
    "### Hypothesis to check if 8% of whippets are rescues"
   ]
  },
  {
   "cell_type": "code",
   "execution_count": 22,
   "id": "332743d6",
   "metadata": {},
   "outputs": [
    {
     "data": {
      "text/plain": [
       "0.5811780106238098"
      ]
     },
     "execution_count": 22,
     "metadata": {},
     "output_type": "execute_result"
    }
   ],
   "source": [
    "from scipy.stats import binom_test\n",
    "pval = binom_test(num_whippet_rescues, num_whippets, 0.08)\n",
    "pval"
   ]
  },
  {
   "cell_type": "markdown",
   "id": "f707cab2",
   "metadata": {},
   "source": [
    "### Weight values of Whippet, Terrier and Pitbull breeds"
   ]
  },
  {
   "cell_type": "code",
   "execution_count": 11,
   "id": "973f802c",
   "metadata": {},
   "outputs": [],
   "source": [
    "wt_whippets = dogs.weight[dogs.breed == 'whippet']\n",
    "wt_terriers = dogs.weight[dogs.breed == 'terrier']\n",
    "wt_pitbulls = dogs.weight[dogs.breed == 'pitbull']"
   ]
  },
  {
   "cell_type": "markdown",
   "id": "5e0948c5",
   "metadata": {},
   "source": [
    "### Hypothesis to check if there is a significant difference in the average weights of these three dog breeds"
   ]
  },
  {
   "cell_type": "code",
   "execution_count": 23,
   "id": "88cfd06f",
   "metadata": {},
   "outputs": [
    {
     "data": {
      "text/plain": [
       "3.276415588274815e-17"
      ]
     },
     "execution_count": 23,
     "metadata": {},
     "output_type": "execute_result"
    }
   ],
   "source": [
    "from scipy.stats import f_oneway\n",
    "fstat, pval = f_oneway(wt_pitbulls, wt_terriers, wt_whippets)\n",
    "pval"
   ]
  },
  {
   "cell_type": "code",
   "execution_count": 24,
   "id": "a018f9fe",
   "metadata": {},
   "outputs": [
    {
     "name": "stdout",
     "output_type": "stream",
     "text": [
      " Multiple Comparison of Means - Tukey HSD, FWER=0.05 \n",
      "=====================================================\n",
      " group1  group2 meandiff p-adj   lower  upper  reject\n",
      "-----------------------------------------------------\n",
      "pitbull terrier   -13.24  0.001 -16.728 -9.752   True\n",
      "pitbull whippet    -3.34 0.0639  -6.828  0.148  False\n",
      "terrier whippet      9.9  0.001   6.412 13.388   True\n",
      "-----------------------------------------------------\n"
     ]
    }
   ],
   "source": [
    "# Tukey’s range test to check if at least one pair of dog breeds have significantly different average weights\n",
    "from statsmodels.stats.multicomp import pairwise_tukeyhsd\n",
    "result = pairwise_tukeyhsd(endog = dogs_wtp.weight, groups = dogs_wtp.breed)\n",
    "print(result)"
   ]
  },
  {
   "cell_type": "markdown",
   "id": "8f52c218",
   "metadata": {},
   "source": [
    "### Contingency table of dog colors by breed (poodle vs. shihtzu)"
   ]
  },
  {
   "cell_type": "code",
   "execution_count": 25,
   "id": "aa2bff7b",
   "metadata": {},
   "outputs": [
    {
     "data": {
      "text/html": [
       "<div>\n",
       "<style scoped>\n",
       "    .dataframe tbody tr th:only-of-type {\n",
       "        vertical-align: middle;\n",
       "    }\n",
       "\n",
       "    .dataframe tbody tr th {\n",
       "        vertical-align: top;\n",
       "    }\n",
       "\n",
       "    .dataframe thead th {\n",
       "        text-align: right;\n",
       "    }\n",
       "</style>\n",
       "<table border=\"1\" class=\"dataframe\">\n",
       "  <thead>\n",
       "    <tr style=\"text-align: right;\">\n",
       "      <th>color</th>\n",
       "      <th>black</th>\n",
       "      <th>brown</th>\n",
       "      <th>gold</th>\n",
       "      <th>grey</th>\n",
       "      <th>white</th>\n",
       "    </tr>\n",
       "    <tr>\n",
       "      <th>breed</th>\n",
       "      <th></th>\n",
       "      <th></th>\n",
       "      <th></th>\n",
       "      <th></th>\n",
       "      <th></th>\n",
       "    </tr>\n",
       "  </thead>\n",
       "  <tbody>\n",
       "    <tr>\n",
       "      <th>poodle</th>\n",
       "      <td>17</td>\n",
       "      <td>13</td>\n",
       "      <td>8</td>\n",
       "      <td>52</td>\n",
       "      <td>10</td>\n",
       "    </tr>\n",
       "    <tr>\n",
       "      <th>shihtzu</th>\n",
       "      <td>10</td>\n",
       "      <td>36</td>\n",
       "      <td>6</td>\n",
       "      <td>41</td>\n",
       "      <td>7</td>\n",
       "    </tr>\n",
       "  </tbody>\n",
       "</table>\n",
       "</div>"
      ],
      "text/plain": [
       "color    black  brown  gold  grey  white\n",
       "breed                                   \n",
       "poodle      17     13     8    52     10\n",
       "shihtzu     10     36     6    41      7"
      ]
     },
     "execution_count": 25,
     "metadata": {},
     "output_type": "execute_result"
    }
   ],
   "source": [
    "from scipy.stats import chi2_contingency\n",
    "Xtab = pd.crosstab(dogs_ps.breed, dogs_ps.color)\n",
    "Xtab"
   ]
  },
  {
   "cell_type": "markdown",
   "id": "91d0265c",
   "metadata": {},
   "source": [
    "### Hypothesis to check if there is an association between breed (poodle vs. shihtzu) and color."
   ]
  },
  {
   "cell_type": "code",
   "execution_count": 15,
   "id": "3e875248",
   "metadata": {},
   "outputs": [
    {
     "name": "stdout",
     "output_type": "stream",
     "text": [
      "0.005302408293244597\n"
     ]
    }
   ],
   "source": [
    "chi2, pval, dof, expected = chi2_contingency(Xtab)\n",
    "pval"
   ]
  },
  {
   "cell_type": "code",
   "execution_count": null,
   "id": "a74c07f7",
   "metadata": {},
   "outputs": [],
   "source": []
  }
 ],
 "metadata": {
  "kernelspec": {
   "display_name": "Python 3",
   "language": "python",
   "name": "python3"
  },
  "language_info": {
   "codemirror_mode": {
    "name": "ipython",
    "version": 3
   },
   "file_extension": ".py",
   "mimetype": "text/x-python",
   "name": "python",
   "nbconvert_exporter": "python",
   "pygments_lexer": "ipython3",
   "version": "3.8.8"
  }
 },
 "nbformat": 4,
 "nbformat_minor": 5
}
